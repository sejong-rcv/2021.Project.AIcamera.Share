{
 "cells": [
  {
   "cell_type": "code",
   "execution_count": 1,
   "id": "weighted-description",
   "metadata": {},
   "outputs": [],
   "source": [
    "import argparse\n",
    "import configparser\n",
    "import os\n",
    "from os.path import join, exists, isfile\n",
    "from os import makedirs\n",
    "\n",
    "from tqdm.auto import tqdm\n",
    "import torch\n",
    "import torch.nn as nn\n",
    "from torch.utils.data import DataLoader\n",
    "import numpy as np\n",
    "\n",
    "from patchnetvlad.tools.datasets import PlaceDataset\n",
    "from patchnetvlad.models.models_generic import get_backend, get_model, get_pca_encoding\n",
    "from patchnetvlad.tools import PATCHNETVLAD_ROOT_DIR"
   ]
  },
  {
   "cell_type": "code",
   "execution_count": 2,
   "id": "committed-thinking",
   "metadata": {},
   "outputs": [
    {
     "data": {
      "text/plain": [
       "['/home/dchan/workspace/Access/Depth/DIFFNet/patchnetvlad/configs/performance.ini']"
      ]
     },
     "execution_count": 2,
     "metadata": {},
     "output_type": "execute_result"
    }
   ],
   "source": [
    "config = configparser.ConfigParser()\n",
    "config.read(join(PATCHNETVLAD_ROOT_DIR, 'configs/performance.ini'))"
   ]
  },
  {
   "cell_type": "code",
   "execution_count": 3,
   "id": "static-photograph",
   "metadata": {},
   "outputs": [],
   "source": [
    "encoder_dim, encoder = get_backend()\n",
    "resume_ckpt='/home/dchan/workspace/Access/Depth/Patch-NetVLAD/patchnetvlad/./pretrained_models/mapillary_WPCA4096.pth.tar'\n",
    "checkpoint = torch.load(resume_ckpt, map_location=lambda storage, loc: storage)\n",
    "config['global_params']['num_clusters'] = str(checkpoint['state_dict']['pool.centroids'].shape[0])\n",
    "pool_size = int(config['global_params']['num_pcs'])"
   ]
  },
  {
   "cell_type": "code",
   "execution_count": 4,
   "id": "external-commons",
   "metadata": {},
   "outputs": [],
   "source": [
    "model = get_model(encoder, encoder_dim, config['global_params'], append_pca_layer=True)"
   ]
  },
  {
   "cell_type": "code",
   "execution_count": 5,
   "id": "basic-soccer",
   "metadata": {},
   "outputs": [
    {
     "data": {
      "text/plain": [
       "<All keys matched successfully>"
      ]
     },
     "execution_count": 5,
     "metadata": {},
     "output_type": "execute_result"
    }
   ],
   "source": [
    "model.load_state_dict(checkpoint['state_dict'])"
   ]
  },
  {
   "cell_type": "code",
   "execution_count": 6,
   "id": "greenhouse-sterling",
   "metadata": {},
   "outputs": [],
   "source": [
    "input_data=torch.randn((1,3,256,256))\n",
    "image_encoding = model.encoder(input_data)\n",
    "vlad_local, vlad_global = model.pool(image_encoding)\n",
    "vlad_global_pca = get_pca_encoding(model, vlad_global)\n",
    "for this_iter, this_local in enumerate(vlad_local):\n",
    "    this_patch_size = model.pool.patch_sizes[this_iter]\n",
    "    db_feat_patches = np.empty((this_local.size(0), pool_size, this_local.size(2)), dtype=np.float32)\n",
    "    grid = np.indices((1, this_local.size(0)))\n",
    "    this_local_pca = get_pca_encoding(model, this_local.permute(2, 0, 1).reshape(-1, this_local.size(1))).\\\n",
    "        reshape(this_local.size(2), this_local.size(0), pool_size).permute(1, 2, 0)\n",
    "    db_feat_patches[grid, :, :] = this_local_pca.detach().cpu().numpy()"
   ]
  },
  {
   "cell_type": "code",
   "execution_count": 7,
   "id": "determined-absence",
   "metadata": {},
   "outputs": [],
   "source": [
    "from Load_patchNet import load_patchNet"
   ]
  },
  {
   "cell_type": "code",
   "execution_count": 8,
   "id": "incoming-jewel",
   "metadata": {},
   "outputs": [
    {
     "data": {
      "text/plain": [
       "Module(\n",
       "  (encoder): Sequential(\n",
       "    (0): Conv2d(3, 64, kernel_size=(3, 3), stride=(1, 1), padding=(1, 1))\n",
       "    (1): ReLU(inplace=True)\n",
       "    (2): Conv2d(64, 64, kernel_size=(3, 3), stride=(1, 1), padding=(1, 1))\n",
       "    (3): ReLU(inplace=True)\n",
       "    (4): MaxPool2d(kernel_size=2, stride=2, padding=0, dilation=1, ceil_mode=False)\n",
       "    (5): Conv2d(64, 128, kernel_size=(3, 3), stride=(1, 1), padding=(1, 1))\n",
       "    (6): ReLU(inplace=True)\n",
       "    (7): Conv2d(128, 128, kernel_size=(3, 3), stride=(1, 1), padding=(1, 1))\n",
       "    (8): ReLU(inplace=True)\n",
       "    (9): MaxPool2d(kernel_size=2, stride=2, padding=0, dilation=1, ceil_mode=False)\n",
       "    (10): Conv2d(128, 256, kernel_size=(3, 3), stride=(1, 1), padding=(1, 1))\n",
       "    (11): ReLU(inplace=True)\n",
       "    (12): Conv2d(256, 256, kernel_size=(3, 3), stride=(1, 1), padding=(1, 1))\n",
       "    (13): ReLU(inplace=True)\n",
       "    (14): Conv2d(256, 256, kernel_size=(3, 3), stride=(1, 1), padding=(1, 1))\n",
       "    (15): ReLU(inplace=True)\n",
       "    (16): MaxPool2d(kernel_size=2, stride=2, padding=0, dilation=1, ceil_mode=False)\n",
       "    (17): Conv2d(256, 512, kernel_size=(3, 3), stride=(1, 1), padding=(1, 1))\n",
       "    (18): ReLU(inplace=True)\n",
       "    (19): Conv2d(512, 512, kernel_size=(3, 3), stride=(1, 1), padding=(1, 1))\n",
       "    (20): ReLU(inplace=True)\n",
       "    (21): Conv2d(512, 512, kernel_size=(3, 3), stride=(1, 1), padding=(1, 1))\n",
       "    (22): ReLU(inplace=True)\n",
       "    (23): MaxPool2d(kernel_size=2, stride=2, padding=0, dilation=1, ceil_mode=False)\n",
       "    (24): Conv2d(512, 512, kernel_size=(3, 3), stride=(1, 1), padding=(1, 1))\n",
       "    (25): ReLU(inplace=True)\n",
       "    (26): Conv2d(512, 512, kernel_size=(3, 3), stride=(1, 1), padding=(1, 1))\n",
       "    (27): ReLU(inplace=True)\n",
       "    (28): Conv2d(512, 512, kernel_size=(3, 3), stride=(1, 1), padding=(1, 1))\n",
       "  )\n",
       "  (pool): PatchNetVLAD(\n",
       "    (conv): Conv2d(512, 16, kernel_size=(1, 1), stride=(1, 1), bias=False)\n",
       "  )\n",
       "  (WPCA): Sequential(\n",
       "    (0): Conv2d(8192, 4096, kernel_size=(1, 1), stride=(1, 1))\n",
       "    (1): Flatten()\n",
       "    (2): L2Norm()\n",
       "  )\n",
       ")"
      ]
     },
     "execution_count": 8,
     "metadata": {},
     "output_type": "execute_result"
    }
   ],
   "source": [
    "load_patchNet()"
   ]
  },
  {
   "cell_type": "code",
   "execution_count": null,
   "id": "decimal-sacrifice",
   "metadata": {},
   "outputs": [],
   "source": []
  }
 ],
 "metadata": {
  "kernelspec": {
   "display_name": "Python 3",
   "language": "python",
   "name": "python3"
  },
  "language_info": {
   "codemirror_mode": {
    "name": "ipython",
    "version": 3
   },
   "file_extension": ".py",
   "mimetype": "text/x-python",
   "name": "python",
   "nbconvert_exporter": "python",
   "pygments_lexer": "ipython3",
   "version": "3.7.10"
  }
 },
 "nbformat": 4,
 "nbformat_minor": 5
}
