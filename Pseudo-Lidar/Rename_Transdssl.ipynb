{
 "cells": [
  {
   "cell_type": "code",
   "execution_count": 3,
   "id": "minor-fault",
   "metadata": {},
   "outputs": [],
   "source": [
    "import torch\n",
    "from transdssl.transdsslmodels_attn import TRANSDSSLDepthModel"
   ]
  },
  {
   "cell_type": "code",
   "execution_count": 4,
   "id": "obvious-torture",
   "metadata": {},
   "outputs": [],
   "source": [
    "from transdssl.transdssl_encoder import TRANSDSSLEncoder\n",
    "from transdssl.transdssl_decoder import TRANSDSSLDecoder"
   ]
  },
  {
   "cell_type": "code",
   "execution_count": 5,
   "id": "baking-aquatic",
   "metadata": {},
   "outputs": [],
   "source": [
    "bestmodel=torch.load(\"transdssl.ckpt\")"
   ]
  },
  {
   "cell_type": "code",
   "execution_count": 6,
   "id": "ordered-space",
   "metadata": {},
   "outputs": [],
   "source": [
    "state_dict=bestmodel[\"state_dict\"]\n",
    "state_dict_keys=list(state_dict.keys())"
   ]
  },
  {
   "cell_type": "code",
   "execution_count": 7,
   "id": "encouraging-maria",
   "metadata": {},
   "outputs": [
    {
     "name": "stdout",
     "output_type": "stream",
     "text": [
      "self.out_conv.weight : -1.910857915878296\n",
      "self.conv1.weight : -11.133289337158203, self.conv2.weight : -5.867816925048828\n",
      "self.conv1.weight : 3.900543451309204, self.conv2.weight : -5.759769439697266\n",
      "self.out_conv.weight : 17.253110885620117\n",
      "self.conv1.weight : 10.38044261932373, self.conv2.weight : -6.186618328094482\n",
      "self.conv1.weight : -17.03426742553711, self.conv2.weight : 21.916879653930664\n",
      "self.out_conv.weight : 0.4929203987121582\n",
      "self.conv1.weight : 6.111461162567139, self.conv2.weight : -7.614924907684326\n",
      "self.conv1.weight : 2.7297229766845703, self.conv2.weight : -4.689507484436035\n",
      "self.out_conv.weight : 11.010150909423828\n",
      "self.conv1.weight : 14.907830238342285, self.conv2.weight : -6.2648773193359375\n",
      "self.conv1.weight : -1.469271183013916, self.conv2.weight : 2.618825674057007\n",
      "self.out_conv.weight : 3.0478549003601074\n",
      "self.conv1.weight : -13.866363525390625, self.conv2.weight : -0.08486151695251465\n",
      "self.conv1.weight : -12.03792953491211, self.conv2.weight : -10.949237823486328\n"
     ]
    }
   ],
   "source": [
    "depth_net_encoder = TRANSDSSLEncoder(backbone=\"S\",infer=False)\n",
    "depth_net_encoder_state_dict=depth_net_encoder.state_dict()\n",
    "depth_net_encoder_state_dict_keys=list(depth_net_encoder_state_dict.keys())\n",
    "depth_net_decoder = TRANSDSSLDecoder(\n",
    "            backbone=\"S\",infer=False\n",
    "        )\n",
    "depth_net_decoder_state_dict=depth_net_decoder.state_dict()\n",
    "\n",
    "depth_net_decoder_state_dict_keys=list(depth_net_decoder_state_dict.keys())"
   ]
  },
  {
   "cell_type": "code",
   "execution_count": 8,
   "id": "fifth-renewal",
   "metadata": {},
   "outputs": [
    {
     "name": "stdout",
     "output_type": "stream",
     "text": [
      "467 467\n"
     ]
    }
   ],
   "source": [
    "total=0\n",
    "for i in state_dict_keys:\n",
    "    sp=i.split(\".\")\n",
    "    if \"depth_net\" in sp:\n",
    "        new_name=i[16:]\n",
    "        if new_name in depth_net_decoder_state_dict_keys:\n",
    "            depth_net_decoder_state_dict[new_name]=state_dict[i]\n",
    "            total+=1\n",
    "#             print(\"decoder: \",i)\n",
    "        if new_name in depth_net_encoder_state_dict_keys:\n",
    "            depth_net_encoder_state_dict[new_name]=state_dict[i]\n",
    "            total+=1\n",
    "    else:\n",
    "        total+=1\n",
    "print(len(state_dict_keys),total)\n",
    "#             print(\"encoder: \",i)\n"
   ]
  },
  {
   "cell_type": "code",
   "execution_count": 9,
   "id": "blond-horror",
   "metadata": {},
   "outputs": [
    {
     "data": {
      "text/plain": [
       "<All keys matched successfully>"
      ]
     },
     "execution_count": 9,
     "metadata": {},
     "output_type": "execute_result"
    }
   ],
   "source": [
    "depth_net_decoder.load_state_dict(depth_net_decoder_state_dict)\n",
    "depth_net_encoder.load_state_dict(depth_net_encoder_state_dict)"
   ]
  },
  {
   "cell_type": "code",
   "execution_count": 10,
   "id": "bigger-spectacular",
   "metadata": {},
   "outputs": [],
   "source": [
    "torch.save(depth_net_encoder.state_dict(),\"transdssl_pre/encoder.pth\")\n",
    "torch.save(depth_net_decoder.state_dict(),\"transdssl_pre/depth.pth\")"
   ]
  },
  {
   "cell_type": "code",
   "execution_count": 1,
   "id": "modified-portland",
   "metadata": {},
   "outputs": [
    {
     "ename": "NameError",
     "evalue": "name 'depth_net_encoder' is not defined",
     "output_type": "error",
     "traceback": [
      "\u001b[0;31m---------------------------------------------------------------------------\u001b[0m",
      "\u001b[0;31mNameError\u001b[0m                                 Traceback (most recent call last)",
      "\u001b[0;32m<ipython-input-1-95aabf6d4073>\u001b[0m in \u001b[0;36m<module>\u001b[0;34m\u001b[0m\n\u001b[0;32m----> 1\u001b[0;31m \u001b[0mdepth_net_encoder\u001b[0m\u001b[0;34m\u001b[0m\u001b[0;34m\u001b[0m\u001b[0m\n\u001b[0m",
      "\u001b[0;31mNameError\u001b[0m: name 'depth_net_encoder' is not defined"
     ]
    }
   ],
   "source": [
    "depth_net_encoder"
   ]
  },
  {
   "cell_type": "code",
   "execution_count": null,
   "id": "equal-offense",
   "metadata": {},
   "outputs": [],
   "source": []
  },
  {
   "cell_type": "code",
   "execution_count": null,
   "id": "normal-while",
   "metadata": {},
   "outputs": [],
   "source": []
  }
 ],
 "metadata": {
  "kernelspec": {
   "display_name": "Python 3",
   "language": "python",
   "name": "python3"
  },
  "language_info": {
   "codemirror_mode": {
    "name": "ipython",
    "version": 3
   },
   "file_extension": ".py",
   "mimetype": "text/x-python",
   "name": "python",
   "nbconvert_exporter": "python",
   "pygments_lexer": "ipython3",
   "version": "3.7.10"
  }
 },
 "nbformat": 4,
 "nbformat_minor": 5
}
