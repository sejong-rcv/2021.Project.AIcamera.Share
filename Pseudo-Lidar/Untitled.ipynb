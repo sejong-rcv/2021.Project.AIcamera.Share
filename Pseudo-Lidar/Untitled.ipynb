{
 "cells": [
  {
   "cell_type": "code",
   "execution_count": 15,
   "id": "silent-thirty",
   "metadata": {},
   "outputs": [],
   "source": [
    "from networks.discriminator import FCDiscriminator\n",
    "import torch"
   ]
  },
  {
   "cell_type": "code",
   "execution_count": 16,
   "id": "primary-foundation",
   "metadata": {},
   "outputs": [],
   "source": [
    "discri=FCDiscriminator(1)"
   ]
  },
  {
   "cell_type": "code",
   "execution_count": 17,
   "id": "human-special",
   "metadata": {},
   "outputs": [],
   "source": [
    "img=torch.randn((1,1,256,256))"
   ]
  },
  {
   "cell_type": "code",
   "execution_count": 18,
   "id": "dental-colony",
   "metadata": {},
   "outputs": [],
   "source": [
    "D_out1=discri(img)"
   ]
  },
  {
   "cell_type": "code",
   "execution_count": 19,
   "id": "registered-potato",
   "metadata": {},
   "outputs": [],
   "source": [
    "bce_loss = torch.nn.MSELoss()"
   ]
  },
  {
   "cell_type": "code",
   "execution_count": 21,
   "id": "musical-integrity",
   "metadata": {},
   "outputs": [],
   "source": [
    "from torch.autograd import Variable\n",
    "source_label=0\n",
    "loss=bce_loss(D_out1,Variable(torch.FloatTensor(D_out1.data.size()).fill_(source_label)))"
   ]
  },
  {
   "cell_type": "code",
   "execution_count": 22,
   "id": "paperback-specification",
   "metadata": {},
   "outputs": [
    {
     "data": {
      "text/plain": [
       "tensor(0.0002, grad_fn=<MseLossBackward>)"
      ]
     },
     "execution_count": 22,
     "metadata": {},
     "output_type": "execute_result"
    }
   ],
   "source": [
    "loss"
   ]
  },
  {
   "cell_type": "code",
   "execution_count": 25,
   "id": "blond-sheet",
   "metadata": {},
   "outputs": [],
   "source": [
    "import timm"
   ]
  },
  {
   "cell_type": "code",
   "execution_count": 8,
   "id": "appointed-kinase",
   "metadata": {},
   "outputs": [],
   "source": [
    "from torchvision import models\n",
    "import torch"
   ]
  },
  {
   "cell_type": "code",
   "execution_count": 9,
   "id": "further-remains",
   "metadata": {},
   "outputs": [],
   "source": [
    "model=models.vgg19(pretrained=True)\n",
    "img=torch.randn((1,3,256,256))"
   ]
  },
  {
   "cell_type": "code",
   "execution_count": 11,
   "id": "worldwide-suspension",
   "metadata": {},
   "outputs": [
    {
     "data": {
      "text/plain": [
       "torch.Size([1, 512, 8, 8])"
      ]
     },
     "execution_count": 11,
     "metadata": {},
     "output_type": "execute_result"
    }
   ],
   "source": [
    "model.features(img).shape"
   ]
  },
  {
   "cell_type": "code",
   "execution_count": 3,
   "id": "simple-stone",
   "metadata": {},
   "outputs": [],
   "source": [
    "import torch\n",
    "img=hrt(torch.randn((1,3,256,256)).cuda())"
   ]
  },
  {
   "cell_type": "code",
   "execution_count": 4,
   "id": "sporting-barbados",
   "metadata": {},
   "outputs": [
    {
     "data": {
      "text/plain": [
       "torch.Size([1, 78, 64, 64])"
      ]
     },
     "execution_count": 4,
     "metadata": {},
     "output_type": "execute_result"
    }
   ],
   "source": [
    "img[0].shape"
   ]
  },
  {
   "cell_type": "code",
   "execution_count": null,
   "id": "cardiac-photograph",
   "metadata": {},
   "outputs": [],
   "source": []
  }
 ],
 "metadata": {
  "kernelspec": {
   "display_name": "Python 3",
   "language": "python",
   "name": "python3"
  },
  "language_info": {
   "codemirror_mode": {
    "name": "ipython",
    "version": 3
   },
   "file_extension": ".py",
   "mimetype": "text/x-python",
   "name": "python",
   "nbconvert_exporter": "python",
   "pygments_lexer": "ipython3",
   "version": "3.7.10"
  }
 },
 "nbformat": 4,
 "nbformat_minor": 5
}
